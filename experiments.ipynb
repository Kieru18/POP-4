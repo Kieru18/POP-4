{
 "cells": [
  {
   "cell_type": "code",
   "execution_count": null,
   "metadata": {},
   "outputs": [],
   "source": [
    "import os\n",
    "import copy\n",
    "import json\n",
    "import time\n",
    "from typing import List\n",
    "\n",
    "from CONST import SEED, POPULATION_SIZE, GENERATIONS, HISTORY_PATH\n",
    "from neural_networks import FNN, CNN, CRNN\n",
    "from utils import (set_seed, plot_confusion_matrix, make_predictions, \n",
    "                   calculate_metrics, save_metrics, save_history)\n",
    "from algorithms import mu_lambda_es_evolve, de_best_1_bin_evolve, load_population, save_population\n",
    "\n",
    "import numpy as np\n",
    "import tensorflow as tf\n",
    "import matplotlib.pyplot as plt\n",
    "from tensorflow import keras\n",
    "from keras.datasets import mnist\n",
    "from keras.utils import to_categorical\n",
    "from keras.models import Model\n",
    "from keras.layers import Dense, Flatten, LSTM, Conv2D, MaxPooling2D, Reshape\n",
    "from sklearn.model_selection import train_test_split"
   ]
  },
  {
   "cell_type": "code",
   "execution_count": null,
   "metadata": {},
   "outputs": [],
   "source": [
    "set_seed(SEED)"
   ]
  },
  {
   "cell_type": "code",
   "execution_count": null,
   "metadata": {},
   "outputs": [],
   "source": [
    "if not os.path.exists(HISTORY_PATH):\n",
    "    os.makedirs(HISTORY_PATH)"
   ]
  },
  {
   "cell_type": "code",
   "execution_count": null,
   "metadata": {},
   "outputs": [],
   "source": [
    "(train_images, train_labels), (test_images, test_labels) = mnist.load_data()\n",
    "\n",
    "train_images = train_images.reshape((60000, 28, 28, 1))\n",
    "train_images = train_images.astype('float32') / 255\n",
    "\n",
    "test_images = test_images.reshape((10000, 28, 28, 1))\n",
    "test_images = test_images.astype('float32') / 255\n",
    "\n",
    "train_labels = to_categorical(train_labels)\n",
    "test_labels = to_categorical(test_labels)\n",
    "\n",
    "train_images, val_images, train_labels, val_labels = train_test_split(test_images, test_labels, test_size=2000, random_state=SEED)"
   ]
  },
  {
   "cell_type": "code",
   "execution_count": null,
   "metadata": {},
   "outputs": [],
   "source": [
    "class_names = [str(i) for i in range(10)]\n",
    "\n",
    "models: List[Model] = [\n",
    "    FNN('SGD'), FNN('ES'), FNN('DE'),\n",
    "    CNN('SGD'), CNN('ES'), CNN('DE'),\n",
    "    # CRNN('SGD'), CRNN('ES'), CRNN('DE')\n",
    "]\n",
    "\n",
    "\n",
    "for model in models:\n",
    "    shape = (1, 28, 28) if 'FNN' in str(model) else (1, 28, 28, 1)\n",
    "\n",
    "    start = time.time()\n",
    "    if model.info == 'SGD':\n",
    "        model.compile(optimizer='sgd', loss='categorical_crossentropy', metrics=['accuracy'])\n",
    "        history_obj = model.fit(train_images, train_labels, epochs=5, batch_size=64, shuffle=True)\n",
    "        history = history_obj.history['accuracy']\n",
    "\n",
    "    elif model.info == 'ES':\n",
    "        model.build(shape)\n",
    "\n",
    "        best_individual, pop, history = de_best_1_bin_evolve(population_size=POPULATION_SIZE, \n",
    "                                                             generations=GENERATIONS, \n",
    "                                                             model=model, \n",
    "                                                             F=1, \n",
    "                                                             CR=0.2, \n",
    "                                                             test_images=val_images,\n",
    "                                                             test_labels=val_labels, \n",
    "                                                             variant='cross', \n",
    "                                                             start_pop=None)\n",
    "        \n",
    "        model.set_weights(best_individual)\n",
    "        history = np.multiply(history, -1).tolist()\n",
    "\n",
    "    elif model.info == 'DE':\n",
    "        model.build(shape)\n",
    "\n",
    "        best_individual, pop, history = mu_lambda_es_evolve(mu=5, \n",
    "                                                            lambda_=5, \n",
    "                                                            sigma=0.1, \n",
    "                                                            generations=GENERATIONS, \n",
    "                                                            test_images=val_images,\n",
    "                                                            test_labels=val_labels, \n",
    "                                                            model=model,  \n",
    "                                                            variant='cross', \n",
    "                                                            start_pop=None)\n",
    "\n",
    "        model.set_weights(best_individual)\n",
    "        history = np.multiply(history, -1).tolist()\n",
    "\n",
    "    stop = time.time()\n",
    "    runtime = stop - start\n",
    "\n",
    "    save_history(str(model), history, plot=True);\n",
    "\n",
    "    predicted_labels = make_predictions(model, test_images)\n",
    "\n",
    "    accuracy, precision, recall, conf_matrix = calculate_metrics(predicted_labels, np.argmax(test_labels, axis=1))\n",
    "    save_metrics(str(model), accuracy=accuracy, precision=precision, recall=recall, time=runtime)\n",
    "    # print(f'{str(model)} Evaluation - Accuracy: {accuracy:.4f}, Precision: {precision:.4f}, Recall: {recall:.4f}')\n",
    "    # print('Confusion Matrix:')\n",
    "    # print(conf_matrix)\n",
    "    \n",
    "    plot_confusion_matrix(conf_matrix, class_names, title=f'{str(model)}', save=True)\n",
    "\n",
    "    model.save(f'models/{str(model)}', save_format='tf')  "
   ]
  }
 ],
 "metadata": {
  "kernelspec": {
   "display_name": "Python 3",
   "language": "python",
   "name": "python3"
  },
  "language_info": {
   "codemirror_mode": {
    "name": "ipython",
    "version": 3
   },
   "file_extension": ".py",
   "mimetype": "text/x-python",
   "name": "python",
   "nbconvert_exporter": "python",
   "pygments_lexer": "ipython3",
   "version": "3.8.10"
  }
 },
 "nbformat": 4,
 "nbformat_minor": 2
}
