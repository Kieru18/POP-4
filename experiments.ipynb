{
 "cells": [
  {
   "cell_type": "code",
   "execution_count": 1,
   "metadata": {},
   "outputs": [
    {
     "name": "stderr",
     "output_type": "stream",
     "text": [
      "2024-01-29 18:28:38.710393: I tensorflow/tsl/cuda/cudart_stub.cc:28] Could not find cuda drivers on your machine, GPU will not be used.\n",
      "2024-01-29 18:28:38.928112: I tensorflow/tsl/cuda/cudart_stub.cc:28] Could not find cuda drivers on your machine, GPU will not be used.\n",
      "2024-01-29 18:28:38.934165: I tensorflow/core/platform/cpu_feature_guard.cc:182] This TensorFlow binary is optimized to use available CPU instructions in performance-critical operations.\n",
      "To enable the following instructions: AVX2 FMA, in other operations, rebuild TensorFlow with the appropriate compiler flags.\n",
      "2024-01-29 18:28:40.286651: W tensorflow/compiler/tf2tensorrt/utils/py_utils.cc:38] TF-TRT Warning: Could not find TensorRT\n"
     ]
    }
   ],
   "source": [
    "import copy\n",
    "import json\n",
    "from typing import List\n",
    "\n",
    "from CONST import SEED, POPULATION_SIZE, GENERATIONS, DE_HISTORY_PATH\n",
    "from neural_networks import FNN, CNN, CRNN\n",
    "from utils import set_seed, plot_confusion_matrix, make_predictions, calculate_metrics, save_metrics\n",
    "from algorithms import mu_lambda_es_evolve, de_best_1_bin_evolve, load_population, save_population\n",
    "\n",
    "import numpy as np\n",
    "import tensorflow as tf\n",
    "import matplotlib.pyplot as plt\n",
    "from tensorflow import keras\n",
    "from keras.datasets import mnist\n",
    "from keras.utils import to_categorical\n",
    "from keras.models import Model\n",
    "from keras.layers import Dense, Flatten, LSTM, Conv2D, MaxPooling2D, Reshape\n",
    "from sklearn.model_selection import train_test_split\n"
   ]
  },
  {
   "cell_type": "code",
   "execution_count": 2,
   "metadata": {},
   "outputs": [],
   "source": [
    "set_seed(SEED)"
   ]
  },
  {
   "cell_type": "code",
   "execution_count": 3,
   "metadata": {},
   "outputs": [],
   "source": [
    "(train_images, train_labels), (test_images, test_labels) = mnist.load_data()\n",
    "\n",
    "train_images = train_images.reshape((60000, 28, 28, 1))\n",
    "train_images = train_images.astype('float32') / 255\n",
    "\n",
    "test_images = test_images.reshape((10000, 28, 28, 1))\n",
    "test_images = test_images.astype('float32') / 255\n",
    "\n",
    "train_labels = to_categorical(train_labels)\n",
    "test_labels = to_categorical(test_labels)\n",
    "\n",
    "train_images, val_images, train_labels, val_labels = train_test_split(test_images, test_labels, test_size=2000, random_state=SEED)"
   ]
  },
  {
   "cell_type": "code",
   "execution_count": null,
   "metadata": {},
   "outputs": [],
   "source": [
    "class_names = [str(i) for i in range(10)]\n",
    "\n",
    "models: List[Model] = [\n",
    "    FNN('SGD'), FNN('ES'), FNN('DE'),\n",
    "    CNN('SGD'), CNN('ES'), CNN('DE'),\n",
    "    CRNN('SGD'), CRNN('ES'), CRNN('DE')\n",
    "]\n",
    "\n",
    "for model in models:\n",
    "    if model.info == 'SGD':\n",
    "        model.compile(optimizer=model.optimizer, loss='categorical_crossentropy', metrics=['accuracy'])\n",
    "        model.fit(train_images, train_labels, epochs=5, batch_size=64, shuffle=True)\n",
    "\n",
    "    elif model.info == 'ES':\n",
    "        model.build((1, 28, 28))\n",
    "\n",
    "        best_individual, pop, history = de_best_1_bin_evolve(population_size=POPULATION_SIZE, \n",
    "                                                             generations=GENERATIONS, \n",
    "                                                             model=model, \n",
    "                                                             F=1, \n",
    "                                                             CR=0.2, \n",
    "                                                             test_images=val_images,\n",
    "                                                             test_labels=val_labels, \n",
    "                                                             variant='cross', \n",
    "                                                             start_pop=None)\n",
    "        \n",
    "        with open(f'{DE_HISTORY_PATH}{str(model)}.json', 'w') as f:\n",
    "            json.dump(history, f)\n",
    "\n",
    "        model.set_weights(best_individual)\n",
    "\n",
    "    elif model.info == 'DE':\n",
    "        model.build((1, 28, 28))\n",
    "\n",
    "        best_individual2, pop, history = mu_lambda_es_evolve(mu=5, \n",
    "                                                             lambda_=5, \n",
    "                                                             sigma=0.1, \n",
    "                                                             generations=10, \n",
    "                                                             test_images=val_images,\n",
    "                                                             test_labels=val_labels, \n",
    "                                                             model=model,  \n",
    "                                                             variant='cross', \n",
    "                                                             start_pop=None)\n",
    "\n",
    "        with open(f'{DE_HISTORY_PATH}{str(model)}.json', 'w') as file:\n",
    "            json.dump(history, file)\n",
    "\n",
    "        model.set_weights(best_individual)\n",
    "\n",
    "\n",
    "    predicted_labels = make_predictions(model, test_images)\n",
    "\n",
    "    accuracy, precision, recall, conf_matrix = calculate_metrics(predicted_labels, np.argmax(test_labels, axis=1))\n",
    "    save_metrics(str(model), accuracy=accuracy, precision=precision, recall=recall)\n",
    "    # print(f'{str(model)} Evaluation - Accuracy: {accuracy:.4f}, Precision: {precision:.4f}, Recall: {recall:.4f}')\n",
    "    # print('Confusion Matrix:')\n",
    "    # print(conf_matrix)\n",
    "    \n",
    "    plot_confusion_matrix(conf_matrix, class_names, title=f'{str(model)}', save=True)\n",
    "\n",
    "    model.save(f'models/{str(model)}', save_format='tf')  "
   ]
  }
 ],
 "metadata": {
  "kernelspec": {
   "display_name": "Python 3",
   "language": "python",
   "name": "python3"
  },
  "language_info": {
   "codemirror_mode": {
    "name": "ipython",
    "version": 3
   },
   "file_extension": ".py",
   "mimetype": "text/x-python",
   "name": "python",
   "nbconvert_exporter": "python",
   "pygments_lexer": "ipython3",
   "version": "3.8.10"
  }
 },
 "nbformat": 4,
 "nbformat_minor": 2
}
